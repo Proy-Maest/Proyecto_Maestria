{
 "cells": [
  {
   "cell_type": "markdown",
   "metadata": {},
   "source": [
    "# Proyecto integrador: Segmentación de clientes según su transaccionalidad\n",
    "## Integrantes:\n",
    " - Karen Lizeth Velasquez Moná\n",
    " - Ana María Uran González\n",
    " - Daniel Román Ramírez\n",
    " - Daniel Enrique Pinto Restrepo\n",
    " - Carlos Alberto Cerro Espinal"
   ]
  },
  {
   "cell_type": "markdown",
   "metadata": {},
   "source": [
    "## Detección y Remoción de Outliers"
   ]
  },
  {
   "cell_type": "markdown",
   "metadata": {},
   "source": [
    "Cómo parte del proceso del proyecto integrador y de los aprendizajes de las diferentes materias, es necesario detectar outliers en nuestros datos. Con respecto al uso de tarjetas de crédito y del modelo RFM, las variables que se usan son: la edad, total de transacciones y monto total de transacciones. A continuación se describe detalladamente el proceso en el que se incurre."
   ]
  },
  {
   "cell_type": "markdown",
   "metadata": {},
   "source": [
    "#### Primero cargamos las librerias"
   ]
  },
  {
   "cell_type": "code",
   "execution_count": 1,
   "metadata": {},
   "outputs": [],
   "source": [
    "import numpy as np\n",
    "import pandas as pd\n",
    "import matplotlib.pyplot as plt\n",
    "import os"
   ]
  },
  {
   "cell_type": "code",
   "execution_count": 2,
   "metadata": {},
   "outputs": [],
   "source": [
    "#Debemos establecer nuestro directorio de trabajo\n",
    "os.chdir('C:/Users/K555LB/Documents/Maestría en ciencia de los datos y análitica/Semestre 1/Proyecto Integrador')"
   ]
  },
  {
   "cell_type": "markdown",
   "metadata": {},
   "source": [
    "#### Luego cargamos nuestra base de datos"
   ]
  },
  {
   "cell_type": "code",
   "execution_count": 3,
   "metadata": {},
   "outputs": [],
   "source": [
    "bd = pd.read_csv('dataset_banco.csv')"
   ]
  },
  {
   "cell_type": "markdown",
   "metadata": {},
   "source": [
    "### Detección de Outliers"
   ]
  },
  {
   "cell_type": "code",
   "execution_count": 4,
   "metadata": {},
   "outputs": [],
   "source": [
    "#Primero generamos la base con las variables a marca\n",
    "bd_outliers = bd.loc[:,('Monto_transado', 'Total_trx','Edad')]"
   ]
  },
  {
   "cell_type": "code",
   "execution_count": 5,
   "metadata": {},
   "outputs": [],
   "source": [
    "#Cargamos la librería StandardScaler para estandarizar los datos\n",
    "from sklearn.preprocessing import StandardScaler\n",
    "#Con la librería estandarizamos la base de datos de outliers\n",
    "bd_outliers = StandardScaler().fit_transform(bd_outliers)"
   ]
  },
  {
   "cell_type": "code",
   "execution_count": 6,
   "metadata": {},
   "outputs": [],
   "source": [
    "#Luego calculamos la matriz de varianzas y covarianzas para utilizarla en la distancia de mahalanobis\n",
    "cov_matrix = np.cov(bd_outliers, rowvar = False)"
   ]
  },
  {
   "cell_type": "code",
   "execution_count": 7,
   "metadata": {},
   "outputs": [],
   "source": [
    "#Creo un vector de medias, es con el que voy a detectar mis outliers.\n",
    "media = bd_outliers.mean(axis = 0)"
   ]
  },
  {
   "cell_type": "code",
   "execution_count": 8,
   "metadata": {},
   "outputs": [],
   "source": [
    "#Importo de scipy la liberia distancias, es donde obtengo el cálculo de la distancia de mahalanobis\n",
    "from scipy.spatial import distance"
   ]
  },
  {
   "cell_type": "code",
   "execution_count": 9,
   "metadata": {},
   "outputs": [],
   "source": [
    "#Creo una columna adicional de ceros en la base de datos de outliers\n",
    "bd_outliers2 = np.column_stack((bd_outliers, np.zeros(4999)))\n",
    "#Para cada una de las observaciones mido su distancia a la media que calculamos anteriormente\n",
    "for i in range(0,np.size(bd_outliers, axis = 0)):\n",
    "    bd_outliers2[i,3] = distance.mahalanobis(bd_outliers[i,:], media, np.linalg.inv(cov_matrix))"
   ]
  },
  {
   "cell_type": "markdown",
   "metadata": {},
   "source": [
    "Hasta el momento tenemos las ditancia de cada observación a la media, el siguiente paso es establecer un punto de corte el cual nos indicará si una observación es outlier o no. En nuestro caso, tomamos el 10% de las distancias más alejadas de la media."
   ]
  },
  {
   "cell_type": "code",
   "execution_count": 10,
   "metadata": {},
   "outputs": [],
   "source": [
    "#Establecemos una variable cut, que es el punto de corte\n",
    "cut = np.percentile(bd_outliers2[:,3],90)\n",
    "#Generamos una variable que me diga 1 si la distancia es mayor a ese punto de corte y 0 si esta por debajo\n",
    "bd_outliers2 = np.column_stack((bd_outliers2,bd_outliers2[:,3]>cut))"
   ]
  },
  {
   "cell_type": "markdown",
   "metadata": {},
   "source": [
    "### Graficando mis Outliers"
   ]
  },
  {
   "cell_type": "markdown",
   "metadata": {},
   "source": [
    "Para gráficar los outliers, vamos a utilizar componentes principales con el objetivo de reducir dimensionalidad y poder gráficar más fácilmente los datos."
   ]
  },
  {
   "cell_type": "code",
   "execution_count": 11,
   "metadata": {},
   "outputs": [],
   "source": [
    "\"\"\"\n",
    "Cargamos la libería linalg de numpy para obtener los valores y los vectores propios\n",
    "de la matriz de covarianzas que habíamos calculado anteriormente\n",
    "\"\"\"\n",
    "from numpy import linalg as LA\n",
    "values, vectors = LA.eig(cov_matrix)"
   ]
  },
  {
   "cell_type": "code",
   "execution_count": 12,
   "metadata": {},
   "outputs": [
    {
     "name": "stdout",
     "output_type": "stream",
     "text": [
      "Estos son mis valores propios\n",
      "[0.97126887 1.02759717 1.0017342 ]\n",
      "                              \n",
      "Estos son mis valores propios\n",
      "[[ 0.67773899 -0.69408324 -0.24273094]\n",
      " [-0.69408403 -0.71285635  0.10041503]\n",
      " [ 0.24272868 -0.10042049  0.96488264]]\n",
      "Cómo podemos observar, los útlimos dos son los de más variabilidad\n"
     ]
    }
   ],
   "source": [
    "print('Estos son mis valores propios')\n",
    "print(values)\n",
    "print('                              ')\n",
    "print('Estos son mis valores propios')\n",
    "print(vectors)\n",
    "print('Cómo podemos observar, los útlimos dos son los de más variabilidad')"
   ]
  },
  {
   "cell_type": "code",
   "execution_count": 13,
   "metadata": {},
   "outputs": [],
   "source": [
    "\"\"\"\n",
    "Luego de calcular nuestros vectores y valores propios, el paso a seguir\n",
    "es calcular los componentes principales de la siguiente forma\n",
    "\"\"\"\n",
    "comp1 = np.matmul(bd_outliers,vectors[:,2])\n",
    "comp2 = np.matmul(bd_outliers,vectors[:,1])"
   ]
  },
  {
   "cell_type": "code",
   "execution_count": 14,
   "metadata": {},
   "outputs": [],
   "source": [
    "\"\"\"\n",
    "Finalmente creamos un vector indicador para que en el gráfico pueda reflejar los outliers\n",
    "\"\"\"\n",
    "Indicador = bd_outliers2[:,4]\n",
    "Indicador = Indicador.astype(bool)"
   ]
  },
  {
   "cell_type": "code",
   "execution_count": 19,
   "metadata": {},
   "outputs": [
    {
     "data": {
      "text/plain": [
       "<matplotlib.legend.Legend at 0x24b2293ffd0>"
      ]
     },
     "execution_count": 19,
     "metadata": {},
     "output_type": "execute_result"
    },
    {
     "data": {
      "image/png": "[encoded data removed]",
      "text/plain": [
       "<Figure size 432x288 with 1 Axes>"
      ]
     },
     "metadata": {
      "needs_background": "light"
     },
     "output_type": "display_data"
    }
   ],
   "source": [
    "\"\"\"\n",
    "Gráficamos los outliers\n",
    "\"\"\"\n",
    "plt.plot(comp1, comp2,'o')\n",
    "plt.plot(comp1[Indicador,], comp2[Indicador,],'ro',label = 'Outliers')\n",
    "plt.plot(np.matmul(media,vectors[:,2]),np.matmul(media,vectors[:,1]),'k+', label = 'Media')\n",
    "plt.title('Identificación de Outliers')\n",
    "plt.xlabel('Componente Principal 1')\n",
    "plt.ylabel('Componente Principal 2')\n",
    "plt.legend(loc='lower right')"
   ]
  },
  {
   "cell_type": "markdown",
   "metadata": {},
   "source": [
    "## Guardando los cambios"
   ]
  },
  {
   "cell_type": "markdown",
   "metadata": {},
   "source": [
    "Para finalizar, adjuntamos las dos variables creadas (Distancia, Indicador) a la base anterior y luego filtramos las observaciones que no son outliers"
   ]
  },
  {
   "cell_type": "code",
   "execution_count": 20,
   "metadata": {},
   "outputs": [],
   "source": [
    "bd['Outliers'] = bd_outliers2[:,4] #Añadimos la variable indicador\n",
    "bd['Mahal Distance'] = bd_outliers2[:,3] #Añadimos la variable distancia\n",
    "bd_limpia = bd[bd.Outliers == 0] #Filtramos los datos"
   ]
  }
 ],
 "metadata": {
  "kernelspec": {
   "display_name": "Python 3",
   "language": "python",
   "name": "python3"
  },
  "language_info": {
   "codemirror_mode": {
    "name": "ipython",
    "version": 3
   },
   "file_extension": ".py",
   "mimetype": "text/x-python",
   "name": "python",
   "nbconvert_exporter": "python",
   "pygments_lexer": "ipython3",
   "version": "3.7.3"
  }
 },
 "nbformat": 4,
 "nbformat_minor": 2
}
